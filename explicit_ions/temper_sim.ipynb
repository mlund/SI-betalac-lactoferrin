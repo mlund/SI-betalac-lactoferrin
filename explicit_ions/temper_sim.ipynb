{
 "cells": [
  {
   "cell_type": "markdown",
   "id": "11d466c4-cc11-4773-85ec-98c1b0945c4d",
   "metadata": {
    "tags": []
   },
   "source": [
    "# CPPM Explicit ions tempering simulation "
   ]
  },
  {
   "cell_type": "markdown",
   "id": "1bb8ff49-56ba-4eb1-b3b3-61b407c1bc21",
   "metadata": {},
   "source": [
    "### Monte Carlo simulation for protein-protein interactions\n",
    "Explicit ion concentration is used in the simulation. One protein is placed in origin in the simulation box and the other is placed on a specific distance on the z-axis from origin. For each distance a simulation is performed where a virtual translation move is incorporated to get the force from with the potential of mean force is calculated. However, for the smaller distances, where to two proteins are placed closer to each other, were no or very few accepted moves performed, which resulted in unusable values of the virtual translation force. \n",
    "\n",
    "In order to come around this problem, parallel tempering was added to the simulation. It was known that with implicit ions did the previous setup give satisfactory results also for small distances. The tempering boxes were thus built up on a decreasing lambda parameter affecting the kappa and the charge of the ions. In the box representing the full explicit ion case, the lambda is 0. When the kappa is multiplied with the constant it becomes zero and as the charges are multiplied with (1-lambda) they remain unchanged and the first box illustrated the exact explicit ion case. In the other end, the last box will illustrate the implicit ion case. Inbetween are boxes where the ions are less and less \"explicit\". With the switching inbetween boxes, that the parallel tempering allows, it is desired to be able to measure the potential of mean force also when the proteins are located closer to each other. \n",
    "\n",
    "The plotting of the results are done in a separate notebook. \n",
    "Note that depending on how you structure your files you might need to make mainor changes to the script, also you need to define your work directory and directory of your faunus installation. \n",
    "\n",
    "For this project the two milk-proteins betalac and lactoferrin were studied."
   ]
  },
  {
   "cell_type": "code",
   "execution_count": null,
   "id": "92cdc3e5-8a15-4f61-82c6-92a908f1bfef",
   "metadata": {
    "tags": []
   },
   "outputs": [],
   "source": [
    "import pandas as pd\n",
    "import numpy as np\n",
    "import os.path\n",
    "import os\n",
    "from jinja2 import Template\n",
    "from itertools import product\n",
    "import ruamel_yaml as yaml\n",
    "from io import StringIO \n",
    "import json\n",
    "\n",
    "\n",
    "#change to right testing dir\n",
    "workdir = '/home/isabel/Documents/SI-betalac-lactoferrin-main/tempering/Dir-Cs-mM'\n",
    "faunusdir = '/home/isabel/anaconda3/envs/betalac/bin/' # point to Faunus from ~20 December 2022 or later\n",
    "\n",
    "cs_conc = 0.01 # change to make simulations for other salt conc. (mM)\n",
    "pH_range = [5.5] # the pH is always set to 5.5 in these simulations\n",
    "offset = np.linspace(50,70,20)\n",
    "lambda_val = np.linspace(0,1,11)\n",
    "\n",
    "dfn = pd.DataFrame(product(lambda_val), columns=[ 'la'])\n",
    "dfn.T"
   ]
  },
  {
   "cell_type": "markdown",
   "id": "c83076e6-7899-422c-96ea-9a9466bd94e7",
   "metadata": {},
   "source": [
    "### Create directories for each offset"
   ]
  },
  {
   "cell_type": "markdown",
   "metadata": {},
   "source": [
    "In directory of salt concentration, create directories for each offset to make overview of data and plotting later easier."
   ]
  },
  {
   "cell_type": "code",
   "execution_count": null,
   "id": "a198ee75-7cbf-47cd-9538-cb11917a4ba9",
   "metadata": {},
   "outputs": [],
   "source": [
    "%cd -q $workdir\n",
    "for off in offset:\n",
    "    dirname = f'Off{off}' \n",
    "    if not os.path.isdir(dirname):\n",
    "        print(dirname)\n",
    "        os.makedirs(dirname)"
   ]
  },
  {
   "cell_type": "markdown",
   "id": "8737105e-2024-4f29-a51f-9b8203057df3",
   "metadata": {},
   "source": [
    "### Create input for simulations"
   ]
  },
  {
   "cell_type": "markdown",
   "id": "3d0e3688-9469-415d-b022-6e7a9292f198",
   "metadata": {},
   "source": [
    "Making the input files with function below. For the explicit ion simulations grand canonical salt was used which then adjusted number of salt particles to fit with the concentration and protein charges. \n",
    "For each protein-protein mass center distance, here called offset, one mpi for each lambda value are created and put in respective offset directory. "
   ]
  },
  {
   "cell_type": "code",
   "execution_count": 8,
   "id": "15e9db67-6250-4be6-9f47-5a266eb39c25",
   "metadata": {
    "tags": []
   },
   "outputs": [],
   "source": [
    "#tempering input\n",
    "\n",
    "def makeFaunusInput(outfile, **kwargs):\n",
    "    ''' generate faunus input file from Jinja2 template '''\n",
    "    with open('../../temper-template.yml', 'r') as file: # this is the template file\n",
    "        template = Template(file.read())\n",
    "        mpi_rank = kwargs['mpi']\n",
    "        with open(f'mpi{mpi_rank}.' + outfile, 'w') as f:   # open a new faunus input file\n",
    "            inputstr = template.render(kwargs)\n",
    "            d = yaml.safe_load(StringIO(inputstr)) # convert string to stream\n",
    "            f.write(json.dumps(d))\n",
    "            \n",
    "for off in offset:\n",
    "    for idx, row in dfn.iterrows():\n",
    "        %cd -q $workdir/Off$off\n",
    "        makeFaunusInput('input.json', Cs=cs_conc, pH=5.5, mpi=idx, off_val=off, micro=1000, la= row.la)         "
   ]
  },
  {
   "cell_type": "markdown",
   "id": "abfa226a-3bc4-404e-8e14-d68484ae8089",
   "metadata": {},
   "source": [
    "### Run simulations"
   ]
  },
  {
   "cell_type": "markdown",
   "metadata": {},
   "source": [
    "Simulations for respective offset are run in parallel with mpi such that parallel tempering can be performed. These simulations were tested on a local computer and later performed on a cluster in order to aloow long enough simulation times to reach reliable results.  "
   ]
  },
  {
   "cell_type": "code",
   "execution_count": null,
   "id": "119e8064-a2c3-45c7-a4ba-39c18f43b23c",
   "metadata": {
    "tags": []
   },
   "outputs": [],
   "source": [
    "for off in offset:\n",
    "    %cd -q $workdir/Off$off\n",
    "    !pwd\n",
    "    !mpirun -np 11 /home/isabel/github/faunus/faunus -i input.json -o out.json -v 6 2> log #-s state.json"
   ]
  }
 ],
 "metadata": {
  "kernelspec": {
   "display_name": "Python 3 (ipykernel)",
   "language": "python",
   "name": "python3"
  },
  "language_info": {
   "codemirror_mode": {
    "name": "ipython",
    "version": 3
   },
   "file_extension": ".py",
   "mimetype": "text/x-python",
   "name": "python",
   "nbconvert_exporter": "python",
   "pygments_lexer": "ipython3",
   "version": "3.10.13"
  }
 },
 "nbformat": 4,
 "nbformat_minor": 5
}
