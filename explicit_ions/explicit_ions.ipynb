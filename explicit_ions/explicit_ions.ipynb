{
 "cells": [
  {
   "cell_type": "markdown",
   "id": "db7a5b7d-06c6-4a3d-a787-e9692702d238",
   "metadata": {},
   "source": [
    "# CPPM Explicit ions simulation\n",
    "\n",
    "## Methodology\n",
    "\n",
    "In this notebook we explore the interaction between lactoferrin and a β-lactoglobulin dimer using Metropolis-Hastings Monte Carlo (MC) simulations. The two protein structures are kept rigid and coarse grained so that each amino acid is represented by a single bead of size $\\sigma_i$. These beads interact with a combined Lennard-Jones and Debye-Hückel potential to account for short-range repulsion and attraction, as well as electrostatic interactions in an aqueous electrolyte solution.\n",
    "The ionization state of each amino acid is _fluctuating_ according to its p$K_a$-value and solution pH; this is done using a _constant pH ensemble_.\n",
    "The MC system energy function is:\n",
    "\n",
    "$$\n",
    "U = \\sum_i^{N-1}\\sum_{j=i+1}^{N} \\left \\{ 4\\epsilon_{ij} \\left [ \\left( \\frac{\\sigma_{ij}}{r_{ij}} \\right )^{12}  - \\left( \\frac{\\sigma_{ij}}{r_{ij}} \\right )^{6}\\right ]\n",
    "  + k_BT \\frac{\\lambda_Bz_iz_j}{r_{ij}} \\right \\}\n",
    "$$\n",
    "\n",
    "where\n",
    "$\\lambda_B=7$ Å is the Bjerrum length,\n",
    "$z$ are residue charges,\n",
    "$r$ the inter-residue separation,\n",
    "$\\epsilon=0.05~k_BT$ the Lennard-Jones interaction strength.\n",
    "The final term will be explaned below.\n",
    "\n",
    "The mass centers of the two rotating proteins are fixed along the z-axis. For each mass center distance a simulation is performed where a virtual translation move is incorporated to get the force from with the potential of mean force is calculated. The proteins are allowed rotational MC moves and move attempts are also performed to (de-)protonate acidic and basic residues. The salt particles are allowed to both rotate and translate.\n",
    "During simulation, we sample the radial distribution function, $g(R)$, which is related to the angularly averaged _potential of mean force_, $w(R) = -k_BT \\ln g(R) + w_0$, where the reference state $w_0$ is chosen such that $w(R)\\rightarrow 0$ for large $R$.\n",
    "\n",
    "However, for the smaller distances, where to two proteins are placed closer to each other, were no or very few accepted moves performed, which resulted in unusable values of the virtual translation force. In order to come around this problem, parallel tempering was added to the simulation. Thus, this notebook was only used for explicit ion simulations with a protein-protein mass center distance of above 70 Å. This value was choosen by observing where too few moves were accepted in a simulation to produce a result and then an additional 5 Å were added to make sure that the offest distance was big enough to not cause any problems. Therefore, this notebook was used for mass cemter distances of 70 Å and above. \n",
    "\n",
    "Note that depending on how you structure your files you might need to make mainor changes to the script, also you need to define your work directory and directory of your fanus installation. "
   ]
  },
  {
   "cell_type": "markdown",
   "id": "2f6a4a72-70b6-4b50-8984-3a3866f6d835",
   "metadata": {},
   "source": [
    "## Setup simulation conditions\n",
    "\n",
    "This sets up simulations conditions which is here a single pH-value and multiple salt concentrations.\n",
    "The data is collected into a Pandas data-frame."
   ]
  },
  {
   "cell_type": "code",
   "execution_count": null,
   "id": "8e9b340b-5adc-42cc-9057-b5683eb20f0c",
   "metadata": {
    "tags": []
   },
   "outputs": [],
   "source": [
    "%matplotlib inline\n",
    "import matplotlib.pyplot as plt\n",
    "import pandas as pd\n",
    "import numpy as np\n",
    "import os.path\n",
    "import os\n",
    "import json\n",
    "from jinja2 import Template\n",
    "from itertools import product\n",
    "import ruamel_yaml as yaml\n",
    "from io import StringIO \n",
    "\n",
    "faunusdir = '/home/isabel/github/faunus/faunus' # linux\n",
    "workdir = '/home/isabel/Documents/SI-betalac-lactoferrin-main/tempering/cosmos_v4/data_15seed' # linux\n",
    "\n",
    "pH_range = [5.5]\n",
    "salt_range = np.array([0.01, 0.015, 0.02, 0.025])# mol/l\n",
    "offset = np.arange(70.0,126.0,1) # separations in Å\n",
    "df = pd.DataFrame(product(pH_range, salt_range, offset), columns=['pH', 'Cs', 'offset'])\n",
    "df.T"
   ]
  },
  {
   "cell_type": "markdown",
   "id": "09e64215-0914-468e-ae97-e6addb6c7616",
   "metadata": {},
   "source": [
    "## Create simulation input files\n",
    "\n",
    "Here we create input files where each salt concentration has its own directory.\n",
    "The input files are created from `template.yml` using Jinja2."
   ]
  },
  {
   "cell_type": "code",
   "execution_count": 5,
   "id": "441b3d18-6016-46bf-ba37-a22d402927f5",
   "metadata": {
    "tags": []
   },
   "outputs": [],
   "source": [
    "%cd -q $workdir\n",
    "def makeFaunusInput(outfile, **kwargs):\n",
    "    ''' generate faunus input file from Jinja2 template '''\n",
    "    with open('../template.yml', 'r') as file: # this is the template file\n",
    "        template = Template(file.read())\n",
    "        offset = kwargs['offset']\n",
    "        dirname = f'Off{offset}'\n",
    "        if not os.path.isdir(dirname):\n",
    "            os.makedirs(dirname)\n",
    "        with open(f'Off{offset}/' + outfile, 'w') as f:   # open a new faunus input file\n",
    "            inputstr = template.render(kwargs)\n",
    "            #print(inputstr)\n",
    "            d = yaml.safe_load(StringIO(inputstr)) # convert string to stream\n",
    "            f.write(yaml.dump(d))\n",
    "    return dirname"
   ]
  },
  {
   "cell_type": "code",
   "execution_count": 6,
   "id": "d4eb274f-0b5c-48cc-ad1b-24ddf1bf4d64",
   "metadata": {
    "tags": []
   },
   "outputs": [],
   "source": [
    "# creating directories\n",
    "dirnames = []\n",
    "for idx, row in df.iterrows():\n",
    "    dir = makeFaunusInput('eq.yml', Cs=row.Cs, pH=row.pH, micro=500, offset=row.offset)  # equilibration\n",
    "    dir = makeFaunusInput('input.yml', Cs=row.Cs, pH=row.pH, micro=5000, offset=row.offset) # production\n",
    "    dirnames.append(dir) # list with all names of directories"
   ]
  },
  {
   "cell_type": "markdown",
   "id": "f4bdc25f-2960-4ac6-a546-d8fb8e0425d2",
   "metadata": {
    "tags": []
   },
   "source": [
    "### Run simulations\n",
    "The simulation is set up to run in parallel, with both an equilibration run and then production run. "
   ]
  },
  {
   "cell_type": "code",
   "execution_count": null,
   "id": "df4179aa-ccc8-428a-b00e-5c381127fd89",
   "metadata": {
    "tags": []
   },
   "outputs": [],
   "source": [
    "# run simulations in parallel\n",
    "import multiprocess as mp\n",
    "numcpu=32\n",
    "runeq=True\n",
    "runprod= True\n",
    "rerun = True\n",
    "\n",
    "def launch_simulation(offset):\n",
    "    if rerun or (not os.path.isfile('out.json')): # run only if there's no state file\n",
    "        if runeq: # if state.json isn't there, run anyway\n",
    "            !yason.py eq.yml | $faunusdir -v2 -o eqout.json \n",
    "        if runprod:\n",
    "            print('.', end='')\n",
    "            !yason.py input.yml | $faunusdir -v2 -s state.json\n",
    "\n",
    "with mp.Pool(numcpu) as p: # split to multiple threads\n",
    "    p.map(launch_simulation, offset)\n",
    "print('done.')"
   ]
  },
  {
   "cell_type": "markdown",
   "id": "461519dc-56ed-4663-9ae4-96f2abc9171e",
   "metadata": {
    "tags": []
   },
   "source": [
    "## Plot potential of mean force, $w(R)$\n",
    "\n",
    "For each condition, this:\n",
    "1. Loads the sampled radial distribution function\n",
    "2. Converts it to a free energy, $w^{\\prime}(R)$\n",
    "3. Shifts $w^{\\prime}(R)$ to zero at large separations (finds $w_0$)\n",
    "4. Plot"
   ]
  },
  {
   "cell_type": "code",
   "execution_count": 7,
   "id": "91c35174-7748-4979-b817-b2e0233265c6",
   "metadata": {
    "tags": []
   },
   "outputs": [],
   "source": [
    "\n",
    "def get_forces(dirs):\n",
    "    ''' extract force from out.json as a function of offset '''\n",
    "    forces = []\n",
    "    for dirname in dirs:\n",
    "        if os.path.exists(dirname):\n",
    "            #print(dirname)\n",
    "            with open(dirname+'/out.json') as f:\n",
    "                j = json.load(f) # --> dict\n",
    "                if j['analysis'][0][\"virtualtranslate\"][\"force\"] is not None:\n",
    "                    f = j['analysis'][0][\"virtualtranslate\"][\"force\"]\n",
    "                    forces.append(-f)\n",
    "\n",
    "    return forces #np.array([df.offset.values, forces])\n",
    "\n",
    "def plotForce(ax, Cs_begin, Cs_end, style, label, Cs):    \n",
    "    db = dirnames[Cs_begin:Cs_end]# filter database\n",
    "    r = df.offset.values[Cs_begin:Cs_end]\n",
    "    f = get_forces(db)\n",
    "    w = np.cumsum(f)*np.diff(r)[:-2].mean()\n",
    "    w = w - w[-1]\n",
    "    ax.plot(r, w, style, label=label, lw=4, alpha=0.6)\n",
    "    "
   ]
  },
  {
   "cell_type": "code",
   "execution_count": null,
   "id": "82626242-1248-43fc-b92d-03ec38c88f13",
   "metadata": {
    "tags": []
   },
   "outputs": [],
   "source": [
    "plt.rcParams.update({'font.size': 14, 'figure.figsize': [10, 13.0]})\n",
    "fig = plt.figure()\n",
    "ax = fig.add_subplot(1, 1, 1)\n",
    "\n",
    "plotForce(ax, 0, 36, style='r-', label='explicit 25mM', Cs= 25)\n",
    "plotForce(ax, 36, 72, style='m-', label='explicit 50mM', Cs = 50)\n",
    "plotForce(ax, 72, 109, style='k-', label='explicit 100mM', Cs = 100)\n",
    "\n",
    "plt.xlim(45, 100)\n",
    "plt.legend(loc=0, fontsize='small', frameon=False, ncol=2)\n"
   ]
  }
 ],
 "metadata": {
  "kernelspec": {
   "display_name": "Python 3 (ipykernel)",
   "language": "python",
   "name": "python3"
  },
  "language_info": {
   "codemirror_mode": {
    "name": "ipython",
    "version": 3
   },
   "file_extension": ".py",
   "mimetype": "text/x-python",
   "name": "python",
   "nbconvert_exporter": "python",
   "pygments_lexer": "ipython3",
   "version": "3.10.13"
  }
 },
 "nbformat": 4,
 "nbformat_minor": 5
}
