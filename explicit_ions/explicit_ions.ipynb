{
 "cells": [
  {
   "cell_type": "markdown",
   "id": "db7a5b7d-06c6-4a3d-a787-e9692702d238",
   "metadata": {},
   "source": [
    "# Monte Carlo simulation of protein-protein interactions\n",
    "\n",
    "## Methodology\n",
    "\n",
    "In this notebook we explore the interaction between lactoferrin and a β-lactoglobulin dimer using Metropolis-Hastings Monte Carlo (MC) simulations. The two protein structures are kept rigid and coarse grained so that each amino acid is represented by a single bead of size $\\sigma_i$. These beads interact with a combined Lennard-Jones and Debye-Hückel potential to account for short-range repulsion and attraction, as well as electrostatic interactions in an aqueous electrolyte solution.\n",
    "The ionization state of each amino acid is _fluctuating_ according to its p$K_a$-value and solution pH; this is done using a _constant pH ensemble_.\n",
    "The MC system energy function is:\n",
    "\n",
    "$$\n",
    "U = \\sum_i^{N-1}\\sum_{j=i+1}^{N} \\left \\{ 4\\epsilon_{ij} \\left [ \\left( \\frac{\\sigma_{ij}}{r_{ij}} \\right )^{12}  - \\left( \\frac{\\sigma_{ij}}{r_{ij}} \\right )^{6}\\right ]\n",
    "  + k_BT \\frac{\\lambda_Bz_iz_j}{r_{ij}} \\right \\}\n",
    "  + \\mathcal{B}(R)\n",
    "$$\n",
    "\n",
    "where\n",
    "$\\lambda_B=7$ Å is the Bjerrum length,\n",
    "$z$ are residue charges,\n",
    "$r$ the inter-residue separation,\n",
    "$\\epsilon=0.05~k_BT$ the Lennard-Jones interaction strength.\n",
    "The final term will be explaned below.\n",
    "\n",
    "The mass centers of the two rotating proteins are fixed on a line along which they are allowed to translate. In addition to rotational and translation MC moves, move attempts are also performed to (de-)protonate acidic and basic residues.\n",
    "During simulation, we sample the radial distribution function, $g(R)$, which is related to the angularly averaged _potential of mean force_, $w(R) = -k_BT \\ln g(R) + w_0$, where the reference state $w_0$ is chosen such that $w(R)\\rightarrow 0$ for large $R$.\n",
    "\n",
    "### Simulation bias\n",
    "\n",
    "The two proteins are oppositely charged and at salt concentrations, $c_s$, they _strongly associate_ due to electrostatic attraction.\n",
    "Because of this, only short separations are sampled and almost no sampling is done at large $R$.\n",
    "This makes it very difficult to determine $w_0$ within reasonable simulation times.\n",
    "As an example, if the interaction free energy is -16 $k_BT$ when the proteins are in contact, then the probability of observing them at long separations is roughly $e^{-16}\\sim 10^{-7}$.\n",
    "To promote sampling at large separations, we therefore add a _bias potential_ to the MC energy function:\n",
    "\n",
    "$$\n",
    "\\mathcal{B}(R) = -k_BT\\lambda_B Z_1 Z_2 \\left ( \\frac{\\sinh(\\kappa a)}{\\kappa a} \\right )^2\n",
    "              \\left [\n",
    "              \\frac{1 + \\kappa a \\coth(\\kappa a)}{R} - \\frac{\\kappa}{2}\n",
    "              \\right ] e^{-\\kappa R}\n",
    "$$\n",
    "\n",
    "The observed potential of mean force, $w^{\\prime}(R)$ is now _biased_ and unphysical, but since $\\mathcal{B}(R)$ is isotropic and added along the mass-center separation, $R$, we can simply unbias by subtraction to recover the true free energy:\n",
    "\n",
    "$$\n",
    "w(R) = w^{\\prime}(R) - \\mathcal{B}(R)\n",
    "$$\n",
    "\n",
    "The choice of $\\mathcal{B}(R)$ is arbitrary, but most efficient if $w^{\\prime}(R)$ is as flat as possible, whereby all distances are sampled. The above function is the monopole-monopole interaction in an electrolyte solution from Sogame-Ise theory (https://dx.doi.org/10.1073/pnas.95.26.15169), and effectively removes a large part of the electrostatic attraction (note the negative sign)..\n",
    "$Z_1$ and $Z_2$ denote the average protein charges and $a=36$ Å is an effective diameter, chosen such that $w^{\\prime}(R)$ is reasonably flat over a large range of ionic strengths.\n",
    "\n",
    "### Parallel tempering\n",
    "\n",
    "Is not available for Grand Canonical simulations yet (or it is at least very experimental in Faunus)"
   ]
  },
  {
   "cell_type": "markdown",
   "id": "2f6a4a72-70b6-4b50-8984-3a3866f6d835",
   "metadata": {},
   "source": [
    "## Setup simulation conditions\n",
    "\n",
    "This sets up simulations conditions which is here a single pH-value and multiple salt concentrations.\n",
    "The data is collected into a Pandas data-frame."
   ]
  },
  {
   "cell_type": "code",
   "execution_count": 2,
   "id": "8e9b340b-5adc-42cc-9057-b5683eb20f0c",
   "metadata": {},
   "outputs": [
    {
     "data": {
      "text/html": [
       "<div>\n",
       "<style scoped>\n",
       "    .dataframe tbody tr th:only-of-type {\n",
       "        vertical-align: middle;\n",
       "    }\n",
       "\n",
       "    .dataframe tbody tr th {\n",
       "        vertical-align: top;\n",
       "    }\n",
       "\n",
       "    .dataframe thead th {\n",
       "        text-align: right;\n",
       "    }\n",
       "</style>\n",
       "<table border=\"1\" class=\"dataframe\">\n",
       "  <thead>\n",
       "    <tr style=\"text-align: right;\">\n",
       "      <th></th>\n",
       "      <th>0</th>\n",
       "      <th>1</th>\n",
       "      <th>2</th>\n",
       "    </tr>\n",
       "  </thead>\n",
       "  <tbody>\n",
       "    <tr>\n",
       "      <th>pH</th>\n",
       "      <td>5.500</td>\n",
       "      <td>5.50</td>\n",
       "      <td>5.50</td>\n",
       "    </tr>\n",
       "    <tr>\n",
       "      <th>Cs</th>\n",
       "      <td>0.005</td>\n",
       "      <td>0.01</td>\n",
       "      <td>0.05</td>\n",
       "    </tr>\n",
       "  </tbody>\n",
       "</table>\n",
       "</div>"
      ],
      "text/plain": [
       "        0     1     2\n",
       "pH  5.500  5.50  5.50\n",
       "Cs  0.005  0.01  0.05"
      ]
     },
     "execution_count": 2,
     "metadata": {},
     "output_type": "execute_result"
    }
   ],
   "source": [
    "%matplotlib inline\n",
    "import matplotlib as mpl\n",
    "import matplotlib.pyplot as plt\n",
    "import pandas as pd\n",
    "import numpy as np\n",
    "import os.path, os, sys, glob, json, copy\n",
    "from math import log, exp, sqrt, sinh, tanh, isnan # coth(x) = 1/tanh(x)\n",
    "from jinja2 import Template\n",
    "from itertools import product\n",
    "import ruamel_yaml as yaml\n",
    "from io import StringIO \n",
    "from scipy.stats import binned_statistic\n",
    "\n",
    "faunusdir = '/Users/mikael/github/faunus/' # point to Faunus from ~20 December 2022 or later\n",
    "\n",
    "pH_range = [5.5]\n",
    "salt_range = np.array([0.005, 0.01, 0.05]) # mol/l\n",
    "\n",
    "df = pd.DataFrame(product(pH_range, salt_range), columns=['pH', 'Cs'])\n",
    "df.T"
   ]
  },
  {
   "cell_type": "markdown",
   "id": "09e64215-0914-468e-ae97-e6addb6c7616",
   "metadata": {},
   "source": [
    "## Create simulation input files\n",
    "\n",
    "Here we create input files where each salt concentration has its own directory.\n",
    "The input files are created from `template.yml` using Jinja2."
   ]
  },
  {
   "cell_type": "code",
   "execution_count": 3,
   "id": "441b3d18-6016-46bf-ba37-a22d402927f5",
   "metadata": {},
   "outputs": [],
   "source": [
    "def makeFaunusInput(outfile, **kwargs):\n",
    "    ''' generate faunus input file from Jinja2 template '''\n",
    "    with open('template.yml', 'r') as file: # this is the template file\n",
    "        template = Template(file.read())\n",
    "        Cs = kwargs['Cs']\n",
    "        os.makedirs(f'Cs{Cs}', exist_ok=True)\n",
    "        with open(f'Cs{Cs}/' + outfile, 'w') as f:   # open a new faunus input file\n",
    "            inputstr = template.render(kwargs)\n",
    "            d = yaml.safe_load(StringIO(inputstr)) # convert string to stream\n",
    "            f.write(yaml.dump(d))\n",
    "\n",
    "for idx, row in df.iterrows():\n",
    "    makeFaunusInput('eq.yml', Cs=row.Cs, pH=row.pH, micro=500, mpi=idx)  # equilibration\n",
    "    makeFaunusInput('input.yml', Cs=row.Cs, pH=row.pH, micro=40000, mpi=idx) # production"
   ]
  },
  {
   "cell_type": "markdown",
   "id": "f4bdc25f-2960-4ac6-a546-d8fb8e0425d2",
   "metadata": {},
   "source": [
    "### Run simulations\n",
    "\n",
    "This loops over the input parameters which are here merely salt concentrations. This currently runs completely serial, so either change this, or start the simulations from a terminal."
   ]
  },
  {
   "cell_type": "code",
   "execution_count": 9,
   "id": "900f4ae6-84c9-4260-900d-4c9a5baa2ee2",
   "metadata": {},
   "outputs": [
    {
     "name": "stdout",
     "output_type": "stream",
     "text": [
      "/Users/mikael/github/SI-betalac-lactoferrin/explicit_ions/Cs0.005\n",
      "/Users/mikael/github/SI-betalac-lactoferrin/explicit_ions\n",
      "/Users/mikael/github/SI-betalac-lactoferrin/explicit_ions/Cs0.01\n",
      "/Users/mikael/github/SI-betalac-lactoferrin/explicit_ions\n",
      "/Users/mikael/github/SI-betalac-lactoferrin/explicit_ions/Cs0.05\n",
      "/Users/mikael/github/SI-betalac-lactoferrin/explicit_ions\n"
     ]
    }
   ],
   "source": [
    "for idx, row in df.iterrows():\n",
    "    %cd Cs{row.Cs}\n",
    "    # Short equilibration run\n",
    "    !yason.py eq.yml | /Users/mikael/github/faunus/faunus --nobar --nofun -v 2\n",
    "    # Long production run\n",
    "    #!yason.py input.yml | /Users/mikael/github/faunus/faunus --state state.json --nobar --nofun -v 2\n",
    "    %cd -q ..\n",
    "print('Done.')"
   ]
  },
  {
   "cell_type": "markdown",
   "id": "ba3785e5-9088-4d4c-83f2-2ff585ed602d",
   "metadata": {},
   "source": [
    "## Pre-load simulation output\n",
    "\n",
    "In this step we load simulation output into the Pandas dataframe.\n",
    "This is merely for convenience."
   ]
  },
  {
   "cell_type": "code",
   "execution_count": 10,
   "id": "0944c942-96ff-45ad-a667-2749caaf2430",
   "metadata": {},
   "outputs": [
    {
     "data": {
      "text/html": [
       "<div>\n",
       "<style scoped>\n",
       "    .dataframe tbody tr th:only-of-type {\n",
       "        vertical-align: middle;\n",
       "    }\n",
       "\n",
       "    .dataframe tbody tr th {\n",
       "        vertical-align: top;\n",
       "    }\n",
       "\n",
       "    .dataframe thead th {\n",
       "        text-align: right;\n",
       "    }\n",
       "</style>\n",
       "<table border=\"1\" class=\"dataframe\">\n",
       "  <thead>\n",
       "    <tr style=\"text-align: right;\">\n",
       "      <th></th>\n",
       "      <th>pH</th>\n",
       "      <th>Cs</th>\n",
       "      <th>rdf</th>\n",
       "      <th>json_output</th>\n",
       "      <th>multipoles</th>\n",
       "    </tr>\n",
       "  </thead>\n",
       "  <tbody>\n",
       "    <tr>\n",
       "      <th>0</th>\n",
       "      <td>5.5</td>\n",
       "      <td>0.005</td>\n",
       "      <td>[[0.0, 0.25, 0.5, 0.75, 1.0, 1.25, 1.5, 1.75, ...</td>\n",
       "      <td>{'analysis': [{'virtualtranslate': {'dL': 0.05...</td>\n",
       "      <td>[[61.0, 63.0, 65.25, 70.75, 72.25, 74.0, 74.25...</td>\n",
       "    </tr>\n",
       "    <tr>\n",
       "      <th>1</th>\n",
       "      <td>5.5</td>\n",
       "      <td>0.010</td>\n",
       "      <td>[[0.0, 0.25, 0.5, 0.75, 1.0, 1.25, 1.5, 1.75, ...</td>\n",
       "      <td>{'analysis': [{'virtualtranslate': {'dL': 0.05...</td>\n",
       "      <td>[[61.0, 61.25, 61.75, 62.75, 63.0, 63.25, 63.5...</td>\n",
       "    </tr>\n",
       "    <tr>\n",
       "      <th>2</th>\n",
       "      <td>5.5</td>\n",
       "      <td>0.050</td>\n",
       "      <td>[[0.0, 0.25, 0.5, 0.75, 1.0, 1.25, 1.5, 1.75, ...</td>\n",
       "      <td>{'analysis': [{'virtualtranslate': {'dL': 0.05...</td>\n",
       "      <td>[[54.0, 54.25, 54.5, 54.75, 55.0, 55.25, 55.75...</td>\n",
       "    </tr>\n",
       "  </tbody>\n",
       "</table>\n",
       "</div>"
      ],
      "text/plain": [
       "    pH     Cs                                                rdf  \\\n",
       "0  5.5  0.005  [[0.0, 0.25, 0.5, 0.75, 1.0, 1.25, 1.5, 1.75, ...   \n",
       "1  5.5  0.010  [[0.0, 0.25, 0.5, 0.75, 1.0, 1.25, 1.5, 1.75, ...   \n",
       "2  5.5  0.050  [[0.0, 0.25, 0.5, 0.75, 1.0, 1.25, 1.5, 1.75, ...   \n",
       "\n",
       "                                         json_output  \\\n",
       "0  {'analysis': [{'virtualtranslate': {'dL': 0.05...   \n",
       "1  {'analysis': [{'virtualtranslate': {'dL': 0.05...   \n",
       "2  {'analysis': [{'virtualtranslate': {'dL': 0.05...   \n",
       "\n",
       "                                          multipoles  \n",
       "0  [[61.0, 63.0, 65.25, 70.75, 72.25, 74.0, 74.25...  \n",
       "1  [[61.0, 61.25, 61.75, 62.75, 63.0, 63.25, 63.5...  \n",
       "2  [[54.0, 54.25, 54.5, 54.75, 55.0, 55.25, 55.75...  "
      ]
     },
     "execution_count": 10,
     "metadata": {},
     "output_type": "execute_result"
    }
   ],
   "source": [
    "df['rdf'] = [np.loadtxt(f'Cs{row.Cs}/rdf.dat', unpack=True) for _, row in df.iterrows()]\n",
    "df['json_output'] = [json.load(open(f'Cs{row.Cs}/out.json')) for _, row in df.iterrows()]\n",
    "df['multipoles'] = [np.loadtxt(f'Cs{row.Cs}/multipole.dat', unpack=True) for _, row in df.iterrows()]\n",
    "df"
   ]
  },
  {
   "cell_type": "markdown",
   "id": "461519dc-56ed-4663-9ae4-96f2abc9171e",
   "metadata": {},
   "source": [
    "## Plot potential of mean force, $w(R)$\n",
    "\n",
    "For each condition, this:\n",
    "1. Loads the sampled radial distribution function\n",
    "2. Converts it to a free energy, $w^{\\prime}(R)$\n",
    "3. Shifts $w^{\\prime}(R)$ to zero at large separations (finds $w_0$)\n",
    "4. Unbias to obtain $w(R)$\n",
    "5. Plot"
   ]
  },
  {
   "cell_type": "code",
   "execution_count": 11,
   "id": "077b1458-7e19-41e3-9c35-c6cccf182d78",
   "metadata": {},
   "outputs": [
    {
     "name": "stderr",
     "output_type": "stream",
     "text": [
      "/var/folders/q8/__l974fj6tv9gwyvvzb0w8x80000gn/T/ipykernel_92092/2186272574.py:22: RuntimeWarning: Mean of empty slice.\n",
      "  w0 = w[(R > 95) & (R<100)].mean() # reference state (kT)\n",
      "/Users/mikael/miniconda3/lib/python3.9/site-packages/numpy/core/_methods.py:189: RuntimeWarning: invalid value encountered in double_scalars\n",
      "  ret = ret.dtype.type(ret / rcount)\n"
     ]
    },
    {
     "data": {
      "image/png": "[encoded data removed]",
      "text/plain": [
       "<Figure size 432x288 with 1 Axes>"
      ]
     },
     "metadata": {
      "needs_background": "light"
     },
     "output_type": "display_data"
    }
   ],
   "source": [
    "def getSIpotential(r, jsonoutput):\n",
    "    '''\n",
    "    Returns negative of a Sogame-Isa (SI) monopole-monopole potential\n",
    "    See for example Eq. 4 in doi:10.1073/pnas.95.26.15169 \n",
    "    '''\n",
    "    bjerrum_length = 7 # water at 300 Kelvin. Units of Å\n",
    "    Z1 = jsonoutput['analysis'][7]['multipole']['molecules']['betalac']['Z']\n",
    "    Z2 = jsonoutput['analysis'][7]['multipole']['molecules']['lactoferrin']['Z']\n",
    "\n",
    "    a = 36 # effective size (Å)\n",
    "    kappa = sqrt(row.Cs) / 3.04 # inverse Debye length (1/Å)\n",
    "    ka = kappa * a\n",
    "    scale = sinh(ka) / (ka)\n",
    "    return -bjerrum_length * Z1 * Z2 * scale**2 * ((1 + ka * 1/tanh(ka)) / r - kappa/2 ) * np.exp(-kappa*r)\n",
    "\n",
    "for idx, row in df.iterrows():\n",
    "    R, rdf = row.rdf\n",
    "    is_sampled = rdf != 0             # ignore distances with no sampling\n",
    "    R = R[is_sampled]                 # mass-center separation (Å)\n",
    "    rdf = rdf[is_sampled]             # radial distribution function\n",
    "    w = -np.log(rdf)                  # potential of mean force (kT)\n",
    "    w0 = w[(R > 95) & (R<100)].mean() # reference state (kT)\n",
    "    w = w - w0                        # shift to zero at large separation\n",
    "    bias = getSIpotential(R, row.json_output)\n",
    "    plt.plot(R, w - bias, label=f'$c_s$={row.Cs * 1000} mM', alpha=0.8, lw=2)\n",
    "\n",
    "plt.xlim(45, 100)\n",
    "plt.ylim(-20, 1)\n",
    "plt.title('Simulated Lactoferrin ↔︎ β-lactoglobulin dimer Interaction')\n",
    "plt.ylabel('Interaction free energy, $w(R) / k_BT$')\n",
    "plt.xlabel('Mass center separation, $R$/Å')\n",
    "plt.legend(loc=0, fontsize='small', frameon=False, ncol=2)\n",
    "plt.show()"
   ]
  },
  {
   "cell_type": "markdown",
   "id": "c0f1ff38-2ada-4a68-bb01-a50187864fc2",
   "metadata": {},
   "source": [
    "### Alternative $w(R)$ calculation using virtial translation moves\n",
    "\n",
    "In this section we obtain the potential of mean force using [_virtual translation moves_ (VTM)](https://faunus.readthedocs.io/en/latest/_docs/analysis.html#virtual-translate-move).\n",
    "By _virtual_ we mean that the system is momentarily perturbed, so that one of the proteins is slightly displaced along the mass-center connection vector.\n",
    "Using linear perturbation theory, this can be used to obtain the _force_, $f(R)$ which can be numerically integrated to yield the interaction free energy, $w^{\\prime}(R)$.\n",
    "Exactly as in the previous section, we need to unbias to get the true $w(R)$.\n",
    "\n",
    "Results from the virtual translation move are stored as a function of MC steps (in `vt.dat.gz`), and prior to analysis we need to bin into distinct $R$ values.\n",
    "This is done by the `getForces()` function. The bias energy, stored in `energy.dat.gz`, is obtained similarly.\n",
    "\n",
    "#### Discussion\n",
    "\n",
    "There are small differences compared to the previous histogram method. This is likely due to the fact that we bin differently and VTM data is hence smoothed slightly."
   ]
  },
  {
   "cell_type": "code",
   "execution_count": 13,
   "id": "30f5323a-4d6f-41d1-97ad-af35df2f4807",
   "metadata": {
    "tags": []
   },
   "outputs": [
    {
     "name": "stderr",
     "output_type": "stream",
     "text": [
      "/var/folders/q8/__l974fj6tv9gwyvvzb0w8x80000gn/T/ipykernel_92092/3503725067.py:23: RuntimeWarning: Mean of empty slice.\n",
      "  w0 = w[(R > 95) & (R<100)].mean()\n"
     ]
    },
    {
     "data": {
      "image/png": "[encoded data removed]",
      "text/plain": [
       "<Figure size 648x288 with 2 Axes>"
      ]
     },
     "metadata": {
      "needs_background": "light"
     },
     "output_type": "display_data"
    }
   ],
   "source": [
    "def getForces(Rfile, virtual_translate_file, bins):\n",
    "    ''' bin average force as a function of R '''\n",
    "    R = np.loadtxt(Rfile, usecols=[1])\n",
    "    steps, dL, du, force = np.loadtxt(virtual_translate_file, unpack=True, skiprows=1)\n",
    "    means, edges, bins = binned_statistic(R, np.exp(-du), 'mean', bins)\n",
    "    return edges[1:], (np.log(means) / dL[0])\n",
    "\n",
    "def getBias(Rfile, energy_file, bins):\n",
    "    ''' bin bias as a function of R '''\n",
    "    x = np.loadtxt(Rfile, usecols=[1])\n",
    "    y = np.loadtxt(energy_file, usecols=[3]) # bias energy is in column [3]\n",
    "    means, edges, bins = binned_statistic(x, y, 'mean', bins)\n",
    "    return (edges[:-1] + edges[1:]) / 2, means\n",
    "\n",
    "fig, (ax1, ax2) = plt.subplots(1, 2, sharex=True, sharey=True)\n",
    "fig.set_size_inches(9,4)\n",
    "\n",
    "for idx, row in df.iterrows():\n",
    "    Cs = row.Cs\n",
    "    R, force = getForces(f'Cs{Cs}/R.dat.gz', f'Cs{Cs}/vt.dat.gz', 100)\n",
    "    R, bias = getBias(f'Cs{Cs}/R.dat.gz', f'Cs{Cs}/energy.dat.gz', 100)\n",
    "    w = -np.cumsum(force)*np.diff(R)[:-2].mean()\n",
    "    w0 = w[(R > 95) & (R<100)].mean()\n",
    "    w = w - w0\n",
    "    ax1.plot(R, w, label=f'$c_s$={row.Cs * 1000} mM', alpha=0.8, lw=2)\n",
    "    ax2.plot(R, w - bias)\n",
    "\n",
    "ax1.set_title(r'With bias, $w^{\\prime}(R)$')\n",
    "ax2.set_title(r'Bias corrected, $w(R)$')\n",
    "plt.xlim(45, 100)\n",
    "plt.ylim(-18, 5)\n",
    "ax1.legend(frameon=False, loc=0, fontsize='x-small', ncol=2)\n",
    "#fig.suptitle('Simulated Lactoferrin ↔︎ β-lactoglobulin dimer Interaction')\n",
    "ax1.set_ylabel('Interaction free energy, $w(R) / k_BT$')\n",
    "ax1.set_xlabel('Protein-protein mass center separation, $R$/Å')\n",
    "ax2.set_xlabel('Protein-protein mass center separation, $R$/Å')\n",
    "ax2.arrow(x=70, y=-10, dx=-15, dy=10, width=.2, alpha=0.5, head_width=0.5)\n",
    "ax2.annotate(r'$c_s$', xy = (52, 1.1), fontsize='large')\n",
    "plt.savefig(\"free_energy_vs_salt.pdf\", bbox_inches='tight')\n",
    "plt.show()"
   ]
  },
  {
   "cell_type": "markdown",
   "id": "cb08dbb3-3acf-4419-a8cb-ed3195b754c0",
   "metadata": {},
   "source": [
    "## Free energy difference in the minimum\n",
    "\n",
    "In this section we investigate how the simulated free energy minimum shifts with salt concentration. This is then compared to how the measured (ITC) binding constant shifts with salt concentration. Both the measured and simulated data are reported relative to a reference ($*$) salt concentration $c_s^*=15$ mM. We thus report on\n",
    "$$\n",
    "\\Delta \\Delta G_{exp} = \\Delta G_{exp} - \\Delta G_{exp}^* = -\\ln \\frac{ K_a} { K_a^*}\n",
    "$$\n",
    "and\n",
    "$$\n",
    "\\Delta \\Delta G_{sim} \\approx w(R_{min}) - w^*(R_{min})\n",
    "$$\n",
    "where $R_{min}$=56 Å."
   ]
  },
  {
   "cell_type": "code",
   "execution_count": null,
   "id": "5a8170f8-ea42-4ff1-8644-52bb3a1eb047",
   "metadata": {},
   "outputs": [],
   "source": [
    "rmin = 56.0 # approx. distance of free energy minimum\n",
    "wmin = []\n",
    "dG_sim = ([], []) # Cs and minimum free energy (kT)\n",
    "for idx, row in df.iterrows():\n",
    "    Cs = row.Cs\n",
    "    R, force = getForces(f'Cs{Cs}/R.dat.gz', f'Cs{Cs}/vt.dat.gz', 100)\n",
    "    R, bias = getBias(f'Cs{Cs}/R.dat.gz', f'Cs{Cs}/energy.dat.gz', 100)\n",
    "    w = -np.cumsum(force)*np.diff(R)[:-2].mean()\n",
    "    w0 = w[(R > 95) & (R<100)].mean()\n",
    "    w = w - w0 - bias\n",
    "    mask = (R >= rmin)\n",
    "    wmin = w[mask].min()\n",
    "    if not isnan(wmin):\n",
    "        dG_sim[0].append(row.Cs)\n",
    "        dG_sim[1].append(w[mask].min())"
   ]
  },
  {
   "cell_type": "code",
   "execution_count": null,
   "id": "4ea037de-e448-442c-bc3b-94c8f5bf3c9f",
   "metadata": {},
   "outputs": [],
   "source": [
    "# Binding constant (l/mol) from ITC as a func. of Cs (mol/l)\n",
    "K_exp = (np.array([0.0e-3, 2.5e-3, 5e-3, 15e-3, 20e-3]), np.array([4.21e5, 9.72e5, 2.75e5, 0.847e5, 0.332e5]))\n",
    "\n",
    "ref_index = 3 # corresponding to 15 mM\n",
    "ref_G = -np.log(K_exp[1][ref_index])\n",
    "print(\"Reference Cs* = {} mM -> G* = {:.2f} kT\".format(K_exp[0][ref_index] * 1e3, ref_G))\n",
    "plt.plot(K_exp[0], -np.log(K_exp[1]) - ref_G, 'ko', alpha=0.5, ms=9, label='ITC experiment')\n",
    "\n",
    "plt.plot(dG_sim[0], dG_sim[1] - dG_sim[1][1], 'ro', markerfacecolor='none', ms=10, label='Simulation')\n",
    "\n",
    "plt.xlabel(\"Salt concentration (mol/l)\")\n",
    "plt.ylabel(r\"$\\Delta \\Delta G / k_BT$\")\n",
    "plt.legend(loc=0, frameon=False)\n",
    "plt.show()"
   ]
  },
  {
   "cell_type": "markdown",
   "id": "f62f8d55-eae4-4f2a-8783-3d8986551241",
   "metadata": {},
   "source": [
    "## Multipolar interpretation\n",
    "\n",
    "In this section we analyse the electrostatic energy between the two proteins in terms of an _electrostatic multipole expansion_.\n",
    "First consider a fixed mass-center separation, $R$. During simulation the two proteins rotate and we can sample the direct inter-protein Coulomb interaction,\n",
    "\n",
    "$$\n",
    "U_{exact}(R) = k_BT \\langle \\sum_i^{N_{LF}}\\sum^{N_{\\beta Lac}}_j\\lambda_Bz_iz_j/r_{ij} \\rangle\n",
    "$$\n",
    "\n",
    "For each configuration, still at a fixed $R$, we can also calculate the instantaneous protein monopole; dipole; and quadrupolar moments.\n",
    "Using a multipole expansion, we can use these moments to _approximate_ the electrostatic energy and the sum of all terms (ion-ion, ion-dipole etc.) should ideally sum up to $U_{exact}$. Note that this is exact in the limit of infinitely many terms and at long separations.\n",
    "From the simulations, we have access to all $R$, but here limit the analysis to the free energy minimum which is roughly at $R=56$ Å.\n",
    "For more details about the analysis, please refer to https://doi.org/10.1039/C7SM00470B.\n",
    "\n",
    "### Discussion\n",
    "\n",
    "We see that summing all multipolar terms, the total gets quite close to the exact electrostatic energy despite that we have settled on a  short separation. Unsurprisingly, the ion-ion term gives the largest contribution, while the ion-dipole and ion-quadrupole terms give roughly equal contributions and both are attractive.\n",
    "The analysis shows that the two proteins a subject to significant _alignment_ and that these to a large part are due to ion-dipole and ion-quadrupole interactions.\n",
    "Thus, multipoles are a first approximation to mathematically describe charge patches on the protein surface.\n",
    "\n",
    "Secondly, the ion-ion term gets more negative with increasing salt concentration. This merely reflects that the net-charge increases with salt. The anisotropic terms (ion-dipole, dipole-dipole, ion-quadrupole) slightly decreases with ionic strength, showing that the alignment is diminished which is expected.\n",
    "Note that these energies exclude salt-protein interactions, but the configurational space on which the averaging is done do fully incorporate salt at the mean-field level."
   ]
  },
  {
   "cell_type": "code",
   "execution_count": null,
   "id": "8c17e459-d274-4344-88a3-be10adb31962",
   "metadata": {
    "tags": []
   },
   "outputs": [],
   "source": [
    "rmin = 56 # distance in Å with minimum free energy (see graph above)\n",
    "mp = {\"exact\": [], \"sum of multipoles\": [], \"ion-ion\": [], \"ion-dipole\": [], \"dipole-dipole\": [], \"ion-quadrupole\": []}\n",
    "\n",
    "for idx, row in df.iterrows():\n",
    "    R, exact, tot, ii, id, dd, iq, mucorr = row.multipoles\n",
    "    mask = (R == rmin)\n",
    "    mp['exact'].append( exact[mask][-1] )\n",
    "    mp['sum of multipoles'].append( tot[mask][-1] )\n",
    "    mp['ion-ion'].append( ii[mask][-1] )\n",
    "    mp['ion-dipole'].append( id[mask][-1] )\n",
    "    mp['dipole-dipole'].append( dd[mask][-1] )\n",
    "    mp['ion-quadrupole'].append( iq[mask][-1] )\n",
    "\n",
    "for name, energies in mp.items():\n",
    "    if name == 'exact':\n",
    "        plt.plot(salt_range * 1000, energies, 'ko-', label=name, alpha=0.7, lw=1)\n",
    "    elif name == 'sum of multipoles':\n",
    "        plt.plot(salt_range * 1000, energies, 'k-', label=name, alpha=0.7, lw=3)\n",
    "    else:    \n",
    "        plt.plot(salt_range * 1000, energies, '-', label=name, lw=3, alpha=0.8)\n",
    "\n",
    "plt.xlabel('Salt concentration, $c_s$ (mM)')\n",
    "plt.ylabel('Protein-protein electrostatic energy ($k_BT$)')\n",
    "plt.legend(frameon=False, loc=0, ncol=3, fontsize='small')\n",
    "plt.ylim(-9, 1.6)\n",
    "plt.savefig(\"multipole_vs_salt.pdf\", bbox_inches='tight')\n",
    "plt.show()"
   ]
  },
  {
   "cell_type": "markdown",
   "id": "e7e90ed5-1738-41d0-a5ca-3374393c451e",
   "metadata": {},
   "source": [
    "### Pie chart of the multipole contributions at the lowest salt concentration\n",
    "\n",
    "We can alternatively present the multipolar contributions using a pie-chart as a percentage of the _exact_ energy.\n",
    "Here we can more clearly see how the different terms contribute to the total electrostatic energy.\n",
    "Everything that is not captured by the multipole expansion is assigned to _higher order moments_."
   ]
  },
  {
   "cell_type": "code",
   "execution_count": null,
   "id": "e56e327a-fbca-4153-a7ee-8356d7215b7d",
   "metadata": {},
   "outputs": [],
   "source": [
    "exact = np.array(mp['exact'])\n",
    "contributions = {}\n",
    "sum_of_multipoles = 0\n",
    "for name, energies in mp.items():\n",
    "    if name == 'exact' or name == 'sum of multipoles':\n",
    "        continue\n",
    "    percentage = (np.array(energies) / exact)[0] * 100 # use the lowest salt concentration, index 0\n",
    "    contributions[name] = percentage\n",
    "    sum_of_multipoles += percentage\n",
    "\n",
    "contributions['higher order moments'] = 100 - sum_of_multipoles\n",
    "explode = [0, 0, 0, 0, 0.1]\n",
    "plt.pie(contributions.values(), labels=contributions.keys(), startangle = 90, explode = explode, autopct='%1.1f%%')\n",
    "plt.savefig(\"multipole_pie.pdf\", bbox_inches='tight')\n",
    "plt.show()"
   ]
  }
 ],
 "metadata": {
  "kernelspec": {
   "display_name": "Python 3 (ipykernel)",
   "language": "python",
   "name": "python3"
  },
  "language_info": {
   "codemirror_mode": {
    "name": "ipython",
    "version": 3
   },
   "file_extension": ".py",
   "mimetype": "text/x-python",
   "name": "python",
   "nbconvert_exporter": "python",
   "pygments_lexer": "ipython3",
   "version": "3.9.14"
  }
 },
 "nbformat": 4,
 "nbformat_minor": 5
}
