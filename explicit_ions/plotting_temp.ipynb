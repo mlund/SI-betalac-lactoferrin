{
 "cells": [
  {
   "cell_type": "markdown",
   "id": "2ffd4316",
   "metadata": {},
   "source": [
    "# Plotting of explicit ion results\n",
    "\n",
    "The plotting is done by accessing the results from files produced by the simulations, both thoes with tempering and without, to get the full potential of mean force over the whole range of offsets. \n",
    "Note that you might have to change workdir and how you access your files depending on how you have stored them. \n",
    "\n",
    "For the inline plotting adding the salt concentration on the curve, Matplotlib labe lines is used (Cadiou, C. (2022). Matplotlib label lines (v0.5.1). Zenodo. https://doi.org/10.5281/zenodo.7428071)."
   ]
  },
  {
   "cell_type": "code",
   "execution_count": 1,
   "id": "29f72311-d31a-4c13-8914-2e07d12204ea",
   "metadata": {
    "tags": []
   },
   "outputs": [],
   "source": [
    "%matplotlib inline\n",
    "import matplotlib.pyplot as plt\n",
    "import numpy as np\n",
    "import os.path\n",
    "import os\n",
    "import json\n",
    "from labellines import labelLine\n",
    "\n",
    "\n",
    "workdir = '/home/isabel/Documents/SI-betalac-lactoferrin-main/tempering'\n",
    "conc_list = [10, 15, 20, 25]\n",
    "offset = np.linspace(50,125,76) "
   ]
  },
  {
   "cell_type": "code",
   "execution_count": 11,
   "id": "7c79a81e-8287-4b5a-a137-1b706735a53c",
   "metadata": {
    "tags": []
   },
   "outputs": [],
   "source": [
    "def get_forces(offs, cs):\n",
    "    ''' extract force from out.json as a function of offset '''\n",
    "    forces = []\n",
    "    for o in offs:\n",
    "        if os.path.exists('Off' + o):\n",
    "            if os.path.isfile('Off'+ o+'/mpi0.out.json'):\n",
    "                with open('Off'+ o+'/mpi0.out.json') as f:\n",
    "                    j = json.load(f) # --> dict\n",
    "                    if j['analysis'][0][\"virtualtranslate\"][\"force\"] is not None:\n",
    "                        f = j['analysis'][0][\"virtualtranslate\"][\"force\"]\n",
    "                        forces.append(-f)\n",
    "                    else:\n",
    "                        forces.append(0)\n",
    "            else:\n",
    "                with open('Off'+ o+'/out.json') as f:\n",
    "                    j = json.load(f) # --> dict\n",
    "                    if j['analysis'][0][\"virtualtranslate\"][\"force\"] is not None:\n",
    "                        f = j['analysis'][0][\"virtualtranslate\"][\"force\"]\n",
    "                        forces.append(-f)\n",
    "    return forces\n",
    "     \n",
    "\n",
    "def plotForce(ax, offsets, dL, style, col, cs, label, Pdown=0):    \n",
    "    r = offsets\n",
    "    dirs = map(str, offsets)\n",
    "    f = get_forces(dirs, cs)\n",
    "    pmf = np.cumsum(f)*dL # dL is difference between two r\n",
    "    pmf = pmf -pmf[-1]  - Pdown # Pdown adjust the pmf in y\n",
    "    r_Arr = np.array(r)\n",
    "    ax.plot(r_Arr,pmf, style, color = col, label=label)\n",
    "    \n",
    "    return pmf"
   ]
  },
  {
   "cell_type": "code",
   "execution_count": null,
   "id": "3dd2110e-795b-4bf7-9cc7-d0748f5fc30c",
   "metadata": {
    "tags": []
   },
   "outputs": [],
   "source": [
    "plt.rcParams.update({'font.size': 18, 'figure.figsize': [10, 10.0]})   \n",
    "fig = plt.figure()\n",
    "ax = fig.add_subplot(1,1,1)\n",
    "my_cmap = ['#ff8600', '#0032cf', '#c6005f', '#000000', '#74895d']\n",
    "\n",
    "\n",
    "for itr, conc in enumerate(conc_list):\n",
    "    print(conc)\n",
    "    %cd -q $workdir/cosmos_v4/data_$conc\n",
    "    !pwd\n",
    "    plotForce(ax, offset, 1, '-', my_cmap[itr], conc, label=f'Grand canonical explicit salt, {conc}mM', Pdown =0)\n",
    "\n",
    "labelLines(plt.gca().get_lines(), xvals=[58, 58, 60, 62, 75] ,fontsize=14, color=\"k\")\n",
    "\n",
    "plt.xlabel('Protein-protein mass center separation, $R$/Å')\n",
    "plt.ylabel('Interaction free energy, $w(R) / k_BT$')\n",
    "plt.title('Interaction free energy of BLG and LF with explicit salt')\n",
    "plt.ylim(-18, 1)\n",
    "plt.legend(frameon=False, loc=0)\n",
    "plt.show()"
   ]
  }
 ],
 "metadata": {
  "kernelspec": {
   "display_name": "Python 3 (ipykernel)",
   "language": "python",
   "name": "python3"
  },
  "language_info": {
   "codemirror_mode": {
    "name": "ipython",
    "version": 3
   },
   "file_extension": ".py",
   "mimetype": "text/x-python",
   "name": "python",
   "nbconvert_exporter": "python",
   "pygments_lexer": "ipython3",
   "version": "3.10.13"
  }
 },
 "nbformat": 4,
 "nbformat_minor": 5
}
