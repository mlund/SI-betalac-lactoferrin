{
 "cells": [
  {
   "cell_type": "markdown",
   "id": "db7a5b7d-06c6-4a3d-a787-e9692702d238",
   "metadata": {},
   "source": [
    "# Monte Carlo simulation of protein-protein interactions\n",
    "\n",
    "## Methodology\n",
    "\n",
    "In this notebook we explore the interaction between lactoferrin and a β-lactoglobulin dimer using Metropolis-Hastings Monte Carlo (MC) simulations. The two protein structures are kept rigid and coarse grained so that each amino acid is represented by a single bead of size $\\sigma_i$. These beads interact with a combined Lennard-Jones and Debye-Hückel potential to account for short-range repulsion and attraction, as well as electrostatic interactions in an aqueous electrolyte solution.\n",
    "The ionization state of each amino acid is _fluctuating_ according to its p$K_a$-value and solution pH; this is done using a _constant pH ensemble_.\n",
    "The MC system energy function is:\n",
    "\n",
    "$$\n",
    "U = \\sum_i^{N-1}\\sum_{j=i+1}^{N} \\left \\{ 4\\epsilon_{ij} \\left [ \\left( \\frac{\\sigma_{ij}}{r_{ij}} \\right )^{12}  - \\left( \\frac{\\sigma_{ij}}{r_{ij}} \\right )^{6}\\right ]\n",
    "  + k_BT \\frac{\\lambda_Bz_iz_j}{r_{ij}}e^{-\\kappa r_{ij}} \\right \\}\n",
    "  + \\mathcal{B}(R)\n",
    "$$\n",
    "\n",
    "where\n",
    "$\\lambda_B=7$ Å is the Bjerrum length,\n",
    "$\\kappa$ is the inverse screening length,\n",
    "$z$ are residue charges,\n",
    "$r$ the inter-residue separation,\n",
    "$\\epsilon=0.05~k_BT$ the Lennard-Jones interaction strength.\n",
    "The final term will be explaned below.\n",
    "\n",
    "The mass centers of the two rotating proteins are fixed on a line along which they are allowed to translate. In addition to rotational and translation MC moves, move attempts are also performed to (de-)protonate acidic and basic residues.\n",
    "During simulation, we sample the radial distribution function, $g(R)$, which is related to the angularly averaged _potential of mean force_, $w(R) = -k_BT \\ln g(R) + w_0$, where the reference state $w_0$ is chosen such that $w(R)\\rightarrow 0$ for large $R$.\n",
    "\n",
    "### Simulation bias\n",
    "\n",
    "The two proteins are oppositely charged and at salt concentrations, $c_s$, they _strongly associate_ due to electrostatic attraction.\n",
    "Because of this, only short separations are sampled and almost no sampling is done at large $R$.\n",
    "This makes it very difficult to determine $w_0$ within reasonable simulation times.\n",
    "As an example, if the interaction free energy is -16 $k_BT$ when the proteins are in contact, then the probability of observing them at long separations is roughly $e^{-16}\\sim 10^{-7}$.\n",
    "To promote sampling at large separations, we therefore add a _bias potential_ to the MC energy function:\n",
    "\n",
    "$$\n",
    "\\mathcal{B}(R) = -k_BT\\lambda_B Z_1 Z_2 \\left ( \\frac{\\sinh(\\kappa a)}{\\kappa a} \\right )^2\n",
    "              \\left [\n",
    "              \\frac{1 + \\kappa a \\coth(\\kappa a)}{R} - \\frac{\\kappa}{2}\n",
    "              \\right ] e^{-\\kappa R}\n",
    "$$\n",
    "\n",
    "The observed potential of mean force, $w^{\\prime}(R)$ is now _biased_ and unphysical, but since $\\mathcal{B}(R)$ is isotropic and added along the mass-center separation, $R$, we can simply unbias by subtraction to recover the true free energy:\n",
    "\n",
    "$$\n",
    "w(R) = w^{\\prime}(R) - \\mathcal{B}(R)\n",
    "$$\n",
    "\n",
    "The choice of $\\mathcal{B}(R)$ is arbitrary, but most efficient if $w^{\\prime}(R)$ is as flat as possible, whereby all distances are sampled. The above function is the monopole-monopole interaction in an electrolyte solution from Sogame-Ise theory (https://dx.doi.org/10.1073/pnas.95.26.15169), and effectively removes a large part of the electrostatic attraction (note the negative sign)..\n",
    "$Z_1$ and $Z_2$ denote the average protein charges and $a=36$ Å is an effective diameter, chosen such that $w^{\\prime}(R)$ is reasonably flat over a large range of ionic strengths.\n",
    "\n",
    "### Parallel tempering\n",
    "\n",
    "To further aid sampling over a broad range of mass-center separations ($R$), the MC simulations also include parallel tempering moves, where configurations are interchanged between systems with different salt concentrations.\n",
    "Technically this is done a _single_ Faunus instance, where each salt-concentration has it's own MPI process."
   ]
  },
  {
   "cell_type": "markdown",
   "id": "2f6a4a72-70b6-4b50-8984-3a3866f6d835",
   "metadata": {},
   "source": [
    "## Setup simulation conditions\n",
    "\n",
    "This sets up simulations conditions which is here a single pH-value and multiple salt concentrations.\n",
    "The data is collected into a Pandas data-frame."
   ]
  },
  {
   "cell_type": "code",
   "execution_count": null,
   "id": "8e9b340b-5adc-42cc-9057-b5683eb20f0c",
   "metadata": {},
   "outputs": [],
   "source": [
    "%matplotlib inline\n",
    "import matplotlib as mpl\n",
    "import matplotlib.pyplot as plt\n",
    "import pandas as pd\n",
    "import numpy as np\n",
    "import os.path, os, sys, glob, json, copy\n",
    "from math import log, exp, sqrt, sinh,tanh # coth(x) = 1/tanh(x)\n",
    "from jinja2 import Template\n",
    "from itertools import product\n",
    "import ruamel_yaml as yaml\n",
    "from io import StringIO \n",
    "from scipy.stats import binned_statistic\n",
    "\n",
    "faunusdir = '/home/localadmin/github/faunus/' # point to Faunus from ~20 December 2022 or later\n",
    "\n",
    "pH_range = [5.5]\n",
    "salt_range = np.array([0.01, 0.0125, 0.015, 0.02, 0.025, 0.03, 0.035, 0.04, 0.045, 0.05, 0.055, 0.06, 0.07, 0.08, 0.09, 0.1]) # mol/l\n",
    "\n",
    "df = pd.DataFrame(product(pH_range, salt_range), columns=['pH', 'Cs'])\n",
    "df.T"
   ]
  },
  {
   "cell_type": "markdown",
   "id": "09e64215-0914-468e-ae97-e6addb6c7616",
   "metadata": {},
   "source": [
    "## Create simulation input files\n",
    "\n",
    "Here we create input files for each salt concentration. Faunus loads these all at once and creates an MPI process ($i$) for each one. All input and output files are prefixed with `mpi{i}.` where `i` is the MPI rank.\n",
    "The input files are created from `bias-template.yml` using Jinja2 and then converted from YAML to JSON which can be read directly by Faunus."
   ]
  },
  {
   "cell_type": "code",
   "execution_count": null,
   "id": "441b3d18-6016-46bf-ba37-a22d402927f5",
   "metadata": {},
   "outputs": [],
   "source": [
    "def makeFaunusInput(outfile, **kwargs):\n",
    "    ''' generate faunus input file from Jinja2 template '''\n",
    "    with open('bias-template.yml', 'r') as file: # this is the template file\n",
    "        template = Template(file.read())\n",
    "        mpi_rank = kwargs['mpi']\n",
    "        with open(f'mpi{mpi_rank}.' + outfile, 'w') as f:   # open a new faunus input file\n",
    "            inputstr = template.render(kwargs)\n",
    "            d = yaml.safe_load(StringIO(inputstr)) # convert string to stream\n",
    "            f.write(json.dumps(d))\n",
    "\n",
    "for idx, row in df.iterrows():\n",
    "    #makeFaunusInput('input.json', Cs=row.Cs, pH=row.pH, micro=500, mpi=idx)  # equilibration\n",
    "    makeFaunusInput('input.json', Cs=row.Cs, pH=row.pH, micro=40000, mpi=idx) # production"
   ]
  },
  {
   "cell_type": "markdown",
   "id": "5889eca3-bc0a-4769-a5c0-1c2a207c399f",
   "metadata": {},
   "source": [
    "## Run simulation\n",
    "\n",
    "Here we run we simulation using `mpirun`. Make sure to first run a shorter equilibration run to create `state.json` files. As this is going to spawn 16 processes, we suppress output to not flood the Jupyter cell.\n",
    "This was run with Faunus git commit 082cabd6d3e6a983efbad4a76c7090442d17c3db (Dec 19, 2022)"
   ]
  },
  {
   "cell_type": "code",
   "execution_count": null,
   "id": "9d5f970d-41ed-4b2a-88e3-0be94af4eee3",
   "metadata": {},
   "outputs": [],
   "source": [
    "#!mpirun -np 16 $faunusdir/faunus -i input.json --nofun --nobar -v2 --state state.json > /dev/null"
   ]
  },
  {
   "cell_type": "markdown",
   "id": "ba3785e5-9088-4d4c-83f2-2ff585ed602d",
   "metadata": {},
   "source": [
    "## Pre-load simulation output\n",
    "\n",
    "In this step we load simulation output into the Pandas dataframe.\n",
    "This is merely for convenience."
   ]
  },
  {
   "cell_type": "code",
   "execution_count": null,
   "id": "0944c942-96ff-45ad-a667-2749caaf2430",
   "metadata": {},
   "outputs": [],
   "source": [
    "df['rdf'] = [np.loadtxt(f'mpi{index}.rdf.dat', unpack=True) for index, row in df.iterrows()]\n",
    "df['json_output'] = [json.load(open(f'mpi{index}.out.json')) for index, row in df.iterrows()]\n",
    "df['multipoles'] = [np.loadtxt(f'mpi{index}.multipole.dat', unpack=True) for index, row in df.iterrows()]\n",
    "df"
   ]
  },
  {
   "cell_type": "markdown",
   "id": "461519dc-56ed-4663-9ae4-96f2abc9171e",
   "metadata": {},
   "source": [
    "## Plot potential of mean force, $w(R)$\n",
    "\n",
    "For each condition, this:\n",
    "1. Loads the sampled radial distribution function\n",
    "2. Converts it to a free energy, $w^{\\prime}(R)$\n",
    "3. Shifts $w^{\\prime}(R)$ to zero at large separations (finds $w_0$)\n",
    "4. Unbias to obtain $w(R)$\n",
    "5. Plot"
   ]
  },
  {
   "cell_type": "code",
   "execution_count": null,
   "id": "077b1458-7e19-41e3-9c35-c6cccf182d78",
   "metadata": {},
   "outputs": [],
   "source": [
    "def getSIpotential(r, jsonoutput):\n",
    "    '''\n",
    "    Returns negative of a Sogame-Isa (SI) monopole-monopole potential\n",
    "    See for example Eq. 4 in doi:10.1073/pnas.95.26.15169 \n",
    "    '''\n",
    "    bjerrum_length = 7 # water at 300 Kelvin. Units of Å\n",
    "    Z1 = jsonoutput['analysis'][7]['multipole']['molecules']['betalac']['Z']\n",
    "    Z2 = jsonoutput['analysis'][7]['multipole']['molecules']['lactoferrin']['Z']\n",
    "\n",
    "    a = 36 # effective size (Å)\n",
    "    kappa = sqrt(row.Cs) / 3.04 # inverse Debye length (1/Å)\n",
    "    ka = kappa * a\n",
    "    scale = sinh(ka) / (ka)\n",
    "    return -bjerrum_length * Z1 * Z2 * scale**2 * ((1 + ka * 1/tanh(ka)) / r - kappa/2 ) * np.exp(-kappa*r)\n",
    "\n",
    "for idx, row in df.iterrows():\n",
    "    R, rdf = row.rdf\n",
    "    is_sampled = rdf != 0             # ignore distances with no sampling\n",
    "    R = R[is_sampled]                 # mass-center separation (Å)\n",
    "    rdf = rdf[is_sampled]             # radial distribution function\n",
    "    w = -np.log(rdf)                  # potential of mean force (kT)\n",
    "    w0 = w[(R > 95) & (R<100)].mean() # reference state (kT)\n",
    "    w = w - w0                        # shift to zero at large separation\n",
    "    bias = getSIpotential(R, row.json_output)\n",
    "    plt.plot(R, w - bias, label=f'$c_s$={row.Cs * 1000} mM', alpha=0.8, lw=2)\n",
    "\n",
    "plt.xlim(45, 100)\n",
    "plt.ylim(-20, 1)\n",
    "plt.title('Simulated Lactoferrin ↔︎ β-lactoglobulin dimer Interaction')\n",
    "plt.ylabel('Interaction free energy, $w(R) / k_BT$')\n",
    "plt.xlabel('Mass center separation, $R$/Å')\n",
    "plt.legend(loc=0, fontsize='small', frameon=False, ncol=2)\n",
    "plt.show()"
   ]
  },
  {
   "cell_type": "markdown",
   "id": "c0f1ff38-2ada-4a68-bb01-a50187864fc2",
   "metadata": {},
   "source": [
    "### Alternative $w(R)$ calculation using virtial translation moves\n",
    "\n",
    "In this section we obtain the potential of mean force using [_virtual translation moves_ (VTM)](https://faunus.readthedocs.io/en/latest/_docs/analysis.html#virtual-translate-move).\n",
    "By _virtual_ we mean that the system is momentarily perturbed, so that one of the proteins is slightly displaced along the mass-center connection vector.\n",
    "Using linear perturbation theory, this can be used to obtain the _force_, $f(R)$ which can be numerically integrated to yield the interaction free energy, $w^{\\prime}(R)$.\n",
    "Exactly as in the previous section, we need to unbias to get the true $w(R)$.\n",
    "\n",
    "Results from the virtual translation move are stored as a function of MC steps (in `vt.dat.gz`), and prior to analysis we need to bin into distinct $R$ values.\n",
    "This is done by the `getForces()` function. The bias energy, stored in `energy.dat.gz`, is obtained similarly.\n",
    "\n",
    "#### Discussion\n",
    "\n",
    "There are small differences compared to the previous histogram method. This is likely due to the fact that we bin differently and VTM data is hence smoothed slightly."
   ]
  },
  {
   "cell_type": "code",
   "execution_count": null,
   "id": "30f5323a-4d6f-41d1-97ad-af35df2f4807",
   "metadata": {
    "tags": []
   },
   "outputs": [],
   "source": [
    "def getForces(Rfile, virtual_translate_file, bins):\n",
    "    ''' bin average force as a function of R '''\n",
    "    R = np.loadtxt(Rfile, usecols=[1])\n",
    "    steps, dL, du, force = np.loadtxt(virtual_translate_file, unpack=True, skiprows=1)\n",
    "    means, edges, bins = binned_statistic(R, np.exp(-du), 'mean', bins)\n",
    "    return edges[1:], (np.log(means) / dL[0])\n",
    "\n",
    "def getBias(Rfile, energy_file, bins):\n",
    "    ''' bin bias as a function of R '''\n",
    "    x = np.loadtxt(Rfile, usecols=[1])\n",
    "    y = np.loadtxt(energy_file, usecols=[3]) # bias energy is in column [3]\n",
    "    means, edges, bins = binned_statistic(x, y, 'mean', bins)\n",
    "    return (edges[:-1] + edges[1:]) / 2, means\n",
    "\n",
    "fig, (ax1, ax2) = plt.subplots(1, 2, sharex=True, sharey=True)\n",
    "fig.set_size_inches(8,4)\n",
    "\n",
    "for idx, row in df.iterrows():\n",
    "    R, force = getForces(f'mpi{idx}.R.dat.gz', f'mpi{idx}.vt.dat.gz', 100)\n",
    "    R, bias = getBias(f'mpi{idx}.R.dat.gz', f'mpi{idx}.energy.dat.gz', 100)\n",
    "    w = -np.cumsum(force)*np.diff(R)[:-2].mean()\n",
    "    w0 = w[(R > 95) & (R<100)].mean()\n",
    "    w = w - w0\n",
    "    ax1.plot(R, w, label=f'$c_s$={row.Cs * 1000} mM', alpha=0.8, lw=2)\n",
    "    ax2.plot(R, w - bias)\n",
    "\n",
    "ax1.set_title('biased')\n",
    "ax2.set_title('unbiased')\n",
    "plt.xlim(45, 100)\n",
    "plt.ylim(-18, 5)\n",
    "ax1.legend(frameon=False, loc=0, fontsize='x-small', ncol=2)\n",
    "fig.suptitle('Simulated Lactoferrin ↔︎ β-lactoglobulin dimer Interaction')\n",
    "ax1.set_ylabel('Interaction free energy, $w(R) / k_BT$')\n",
    "ax1.set_xlabel('Mass center separation, $R$/Å')\n",
    "ax2.set_xlabel('Mass center separation, $R$/Å')\n",
    "plt.show()"
   ]
  },
  {
   "cell_type": "markdown",
   "id": "f62f8d55-eae4-4f2a-8783-3d8986551241",
   "metadata": {},
   "source": [
    "## Multipolar interpretation\n",
    "\n",
    "In this section we analyse the electrostatic energy between the two proteins in terms of an _electrostatic multipole expansion_.\n",
    "First consider a fixed mass-center separation, $R$. During simulation the two proteins rotate and we can sample the direct inter-protein Coulomb interaction,\n",
    "\n",
    "$$\n",
    "U_{exact}(R) = k_BT \\langle \\sum_i^{N_{LF}}\\sum^{N_{\\beta Lac}}_j\\lambda_Bz_iz_j/r_{ij} \\rangle\n",
    "$$\n",
    "\n",
    "For each configuration, still at a fixed $R$, we can also calculate the instantaneous protein monopole; dipole; and quadrupolar moments.\n",
    "Using a multipole expansion, we can use these moments to _approximate_ the electrostatic energy and the sum of all terms (ion-ion, ion-dipole etc.) should ideally sum up to $U_{exact}$. Note that this is exact in the limit of infinitely many terms and at long separations.\n",
    "From the simulations, we have access to all $R$, but here limit the analysis to the free energy minimum which is roughly at $R=56$ Å.\n",
    "For more details about the analysis, please refer to https://doi.org/10.1039/C7SM00470B.\n",
    "\n",
    "### Discussion\n",
    "\n",
    "We see that summing all multipolar terms, the total gets quite close to the exact electrostatic energy despite that we have settled on a  short separation. Unsurprisingly, the ion-ion term gives the largest contribution, while the ion-dipole and ion-quadrupole terms give roughly equal contributions and both are attractive.\n",
    "The analysis shows that the two proteins a subject to significant _alignment_ and that these to a large part are due to ion-dipole and ion-quadrupole interactions.\n",
    "Thus, multipoles are a first approximation to mathematically describe charge patches on the protein surface.\n",
    "\n",
    "Secondly, the ion-ion term gets more negative with increasing salt concentration. This merely reflects that the net-charge increases with salt. The anisotropic terms (ion-dipole, dipole-dipole, ion-quadrupole) slightly decreases with ionic strength, showing that the alignment is diminished which is expected.\n",
    "Note that these energies exclude salt-protein interactions, but the configurational space on which the averaging is done do fully incorporate salt at the mean-field level."
   ]
  },
  {
   "cell_type": "code",
   "execution_count": null,
   "id": "8c17e459-d274-4344-88a3-be10adb31962",
   "metadata": {
    "tags": []
   },
   "outputs": [],
   "source": [
    "rmin = 56 # distance in Å with minimum free energy (see graph above)\n",
    "mp = {\"exact\": [], \"sum of multipoles\": [], \"ion-ion\": [], \"ion-dipole\": [], \"dipole-dipole\": [], \"ion-quadrupole\": []}\n",
    "\n",
    "for idx, row in df.iterrows():\n",
    "    R, exact, tot, ii, id, dd, iq, mucorr = row.multipoles\n",
    "    mask = (R == rmin)\n",
    "    mp['exact'].append( exact[mask][-1] )\n",
    "    mp['sum of multipoles'].append( tot[mask][-1] )\n",
    "    mp['ion-ion'].append( ii[mask][-1] )\n",
    "    mp['ion-dipole'].append( id[mask][-1] )\n",
    "    mp['dipole-dipole'].append( dd[mask][-1] )\n",
    "    mp['ion-quadrupole'].append( iq[mask][-1] )\n",
    "\n",
    "for name, energies in mp.items():\n",
    "    if name == 'exact':\n",
    "        plt.plot(salt_range * 1000, energies, 'ko-', label=name, alpha=0.7, lw=1)\n",
    "    elif name == 'sum of multipoles':\n",
    "        plt.plot(salt_range * 1000, energies, 'k-', label=name, alpha=0.7, lw=3)\n",
    "    else:    \n",
    "        plt.plot(salt_range * 1000, energies, '-', label=name, lw=3, alpha=0.8)\n",
    "\n",
    "plt.xlabel('Salt concentration, $c_s$ (mM)')\n",
    "plt.ylabel('Protein-protein electrostatic energy ($k_BT$)')\n",
    "plt.legend(frameon=False, loc=0, ncol=3)\n",
    "plt.ylim(-9, 1.6)\n",
    "plt.show()"
   ]
  },
  {
   "cell_type": "markdown",
   "id": "e7e90ed5-1738-41d0-a5ca-3374393c451e",
   "metadata": {},
   "source": [
    "### Pie chart of the multipole contributions at the lowest salt concentration\n",
    "\n",
    "We can alternatively present the multipolar contributions using a pie-chart as a percentage of the _exact_ energy.\n",
    "Here we can more clearly see how the different terms contribute to the total electrostatic energy.\n",
    "Everything that is not captured by the multipole expansion is assigned to _higher order moments_."
   ]
  },
  {
   "cell_type": "code",
   "execution_count": null,
   "id": "e56e327a-fbca-4153-a7ee-8356d7215b7d",
   "metadata": {},
   "outputs": [],
   "source": [
    "exact = np.array(mp['exact'])\n",
    "contributions = {}\n",
    "sum_of_multipoles = 0\n",
    "for name, energies in mp.items():\n",
    "    if name == 'exact' or name == 'sum of multipoles':\n",
    "        continue\n",
    "    percentage = (np.array(energies) / exact)[0] * 100 # use the lowest salt concentration, index 0\n",
    "    contributions[name] = percentage\n",
    "    sum_of_multipoles += percentage\n",
    "\n",
    "contributions['higher order moments'] = 100 - sum_of_multipoles\n",
    "explode = [0, 0, 0, 0, 0.1]\n",
    "plt.pie(contributions.values(), labels=contributions.keys(), startangle = 90, explode = explode, autopct='%1.1f%%')\n",
    "plt.show()"
   ]
  },
  {
   "cell_type": "markdown",
   "id": "83bff7f6-e01f-48e4-9bef-ccad78e62d71",
   "metadata": {},
   "source": [
    "## Contact map in the free energy minimum\n",
    "\n",
    "We now investigate which residues that are in contact when the two proteins form a complex at low salt concentrations. This is done by analysing 1000 frames from a trajectory collected at $c_s=10$ mM and at pH 5.5. A contact is defined when the residue-residue center distance is less than 20 Å."
   ]
  },
  {
   "cell_type": "code",
   "execution_count": null,
   "id": "72a1a8d1-c332-4296-9593-231a66b193f3",
   "metadata": {},
   "outputs": [],
   "source": [
    "import mdtraj as md\n",
    "import itertools\n",
    "traj = md.load(\"contacts-dimer/traj.xtc\", top=\"contacts-dimer/confout.pdb\")"
   ]
  },
  {
   "cell_type": "code",
   "execution_count": null,
   "id": "239d64c3-e756-4017-af05-80c81df425a9",
   "metadata": {},
   "outputs": [],
   "source": [
    "betalac = traj.top.select('resname bet')\n",
    "lactoferrin = traj.top.select('resname lac')\n",
    "pairs = list(itertools.product(betalac, lactoferrin))\n",
    "contacts = np.zeros(shape=(traj.n_atoms, traj.n_atoms ))\n",
    "contact_file = 'contacts-dimer/contacts.dat'\n",
    "\n",
    "if not os.path.exists(contact_file):\n",
    "    cutoff = 2 # nm\n",
    "    for frame in range(0, traj.n_frames, 1):\n",
    "        print(frame, end=' ')\n",
    "        for i, j in pairs:\n",
    "            r = traj.xyz[frame][i] - traj.xyz[frame][j]\n",
    "            if np.linalg.norm(r) < cutoff:\n",
    "                contacts[i][j] += 1\n",
    "    np.savetxt(contact_file, contacts)\n",
    "\n",
    "contacts = np.loadtxt(contact_file)\n",
    "\n",
    "fig, ax = plt.subplots(1,1)\n",
    "im = ax.imshow(contacts / contacts.max(), cmap=\"bone_r\")\n",
    "cbar = ax.figure.colorbar(im, ax=ax, fraction=0.021, pad=0.04)\n",
    "fig.set_size_inches(10,6)\n",
    "\n",
    "ax.set_xlim(lactoferrin[0], lactoferrin[-1])\n",
    "ax.set_ylim(betalac[0], betalac[-1])\n",
    "plt.xlabel('Lactoferrin residues')\n",
    "plt.ylabel('β-lactoglobulin residues')\n",
    "ax.ticklabel_format(useOffset=lactoferrin[0], axis='x')\n",
    "plt.show()"
   ]
  },
  {
   "cell_type": "markdown",
   "id": "990b7852-08e8-4d1b-acf6-78f40ca0a71f",
   "metadata": {},
   "source": [
    "## Outlook\n",
    "\n",
    "- [ ] Contact map for the binding of a second beta-lac dimer\n",
    "- [ ] Connect to SAXS. Proposed structures of complexes may be used to analyse SAXS data. Simulations could further directly be used to calculate complex form factors, or even structure factors at finite protein concentrations.\n",
    "- [ ] Compare with Kd values from ITC\n",
    "- [ ] Relative binding constant for 1, 2, 3 beta-lacs? Grand canonical ensemble and N-distribution\n",
    "- [ ] Estimate radius of gyration. Experimentall ~6.5 nm for one lactoferrin and two beta-lac\n",
    "- [ ] Mean force at contact and with explicit counter ions and salt particles"
   ]
  },
  {
   "cell_type": "code",
   "execution_count": null,
   "id": "e5b74ad7-56bf-473f-a417-93c9c499d0a1",
   "metadata": {},
   "outputs": [],
   "source": []
  }
 ],
 "metadata": {
  "kernelspec": {
   "display_name": "Python 3 (ipykernel)",
   "language": "python",
   "name": "python3"
  },
  "language_info": {
   "codemirror_mode": {
    "name": "ipython",
    "version": 3
   },
   "file_extension": ".py",
   "mimetype": "text/x-python",
   "name": "python",
   "nbconvert_exporter": "python",
   "pygments_lexer": "ipython3",
   "version": "3.9.10"
  }
 },
 "nbformat": 4,
 "nbformat_minor": 5
}
